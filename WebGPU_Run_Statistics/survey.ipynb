{
 "cells": [
  {
   "cell_type": "code",
   "execution_count": 53,
   "metadata": {},
   "outputs": [],
   "source": [
    "import json\n",
    "    "
   ]
  },
  {
   "cell_type": "code",
   "execution_count": 54,
   "metadata": {},
   "outputs": [],
   "source": [
    "with open(\"stats.json\", 'r') as file:\n",
    "    data = json.load(file)\n"
   ]
  },
  {
   "cell_type": "code",
   "execution_count": 55,
   "metadata": {},
   "outputs": [],
   "source": [
    "key = list(data['1'].keys())"
   ]
  },
  {
   "cell_type": "code",
   "execution_count": 56,
   "metadata": {},
   "outputs": [
    {
     "data": {
      "text/plain": [
       "{'Message Passing Default': 0,\n",
       " 'Message Passing Barrier Variant 1': 0,\n",
       " 'Message Passing Barrier Variant 2': 0,\n",
       " 'Store Default': 0,\n",
       " 'Store Barrier Variant 1': 0,\n",
       " 'Store Barrier Variant 2': 0,\n",
       " 'Read Default': 0,\n",
       " 'Load Buffer Default': 0,\n",
       " 'Load Buffer Barrier Variant 1': 0,\n",
       " 'Load Buffer Barrier Variant 2': 0,\n",
       " 'Store Buffer Default': 0,\n",
       " '2+2 Write Default': 0}"
      ]
     },
     "execution_count": 56,
     "metadata": {},
     "output_type": "execute_result"
    }
   ],
   "source": [
    "result = {}\n",
    "for i in key:\n",
    "    result[i] = 0\n",
    "\n",
    "result"
   ]
  },
  {
   "cell_type": "code",
   "execution_count": 57,
   "metadata": {},
   "outputs": [
    {
     "data": {
      "text/plain": [
       "'WebGPU'"
      ]
     },
     "execution_count": 57,
     "metadata": {},
     "output_type": "execute_result"
    }
   ],
   "source": [
    "data.pop('randomSeed')"
   ]
  },
  {
   "cell_type": "code",
   "execution_count": 58,
   "metadata": {},
   "outputs": [
    {
     "data": {
      "text/plain": [
       "{'Message Passing Default': {'seq': 987, 'interleaved': 12, 'weak': 1},\n",
       " 'Message Passing Barrier Variant 1': {'seq': 148,\n",
       "  'interleaved': 852,\n",
       "  'weak': 0},\n",
       " 'Message Passing Barrier Variant 2': {'seq': 394,\n",
       "  'interleaved': 606,\n",
       "  'weak': 0},\n",
       " 'Store Default': {'seq': 997, 'interleaved': 3, 'weak': 0},\n",
       " 'Store Barrier Variant 1': {'seq': 908, 'interleaved': 92, 'weak': 0},\n",
       " 'Store Barrier Variant 2': {'seq': 129, 'interleaved': 871, 'weak': 0},\n",
       " 'Read Default': {'seq': 994, 'interleaved': 5, 'weak': 1},\n",
       " 'Load Buffer Default': {'seq': 991, 'interleaved': 9, 'weak': 0},\n",
       " 'Load Buffer Barrier Variant 1': {'seq': 259, 'interleaved': 741, 'weak': 0},\n",
       " 'Load Buffer Barrier Variant 2': {'seq': 43, 'interleaved': 957, 'weak': 0},\n",
       " 'Store Buffer Default': {'seq': 987, 'interleaved': 13, 'weak': 0},\n",
       " '2+2 Write Default': {'seq': 814, 'interleaved': 6, 'weak': 180}}"
      ]
     },
     "execution_count": 58,
     "metadata": {},
     "output_type": "execute_result"
    }
   ],
   "source": [
    "data['1']"
   ]
  },
  {
   "cell_type": "code",
   "execution_count": 59,
   "metadata": {},
   "outputs": [],
   "source": [
    "for num in data.keys():\n",
    "    value = data[num]\n",
    "    for test_name in value.keys():\n",
    "        stat = value[test_name]\n",
    "        result[test_name] += stat['weak']"
   ]
  },
  {
   "cell_type": "code",
   "execution_count": 60,
   "metadata": {},
   "outputs": [
    {
     "data": {
      "text/plain": [
       "{'Message Passing Default': 524,\n",
       " 'Message Passing Barrier Variant 1': 0,\n",
       " 'Message Passing Barrier Variant 2': 0,\n",
       " 'Store Default': 88,\n",
       " 'Store Barrier Variant 1': 0,\n",
       " 'Store Barrier Variant 2': 0,\n",
       " 'Read Default': 846,\n",
       " 'Load Buffer Default': 33,\n",
       " 'Load Buffer Barrier Variant 1': 0,\n",
       " 'Load Buffer Barrier Variant 2': 0,\n",
       " 'Store Buffer Default': 121,\n",
       " '2+2 Write Default': 5499}"
      ]
     },
     "execution_count": 60,
     "metadata": {},
     "output_type": "execute_result"
    }
   ],
   "source": [
    "result"
   ]
  },
  {
   "cell_type": "code",
   "execution_count": 63,
   "metadata": {},
   "outputs": [
    {
     "name": "stdout",
     "output_type": "stream",
     "text": [
      "Message Passing Default 892\n",
      "Message Passing Barrier Variant 1 0\n",
      "Message Passing Barrier Variant 2 0\n",
      "Store Default 0\n",
      "Store Barrier Variant 1 0\n",
      "Store Barrier Variant 2 0\n",
      "Read Default 0\n",
      "Load Buffer Default 0\n",
      "Load Buffer Barrier Variant 1 0\n",
      "Load Buffer Barrier Variant 2 0\n",
      "Store Buffer Default 0\n",
      "2+2 Write Default 44\n"
     ]
    }
   ],
   "source": [
    "with open(\"IntelUHD630-10-5000.json\", 'r') as file:\n",
    "    data = json.load(file)\n",
    "    key = list(data['1'].keys())\n",
    "    result = {}\n",
    "    for i in key:\n",
    "        result[i] = 0\n",
    "    data.pop('randomSeed')\n",
    "    for num in data.keys():\n",
    "        value = data[num]\n",
    "        for test_name in value.keys():\n",
    "            stat = value[test_name]\n",
    "            result[test_name] += stat['weak']\n",
    "\n",
    "    for key in result.keys():\n",
    "        print(key, result[key])"
   ]
  },
  {
   "cell_type": "code",
   "execution_count": null,
   "metadata": {},
   "outputs": [],
   "source": []
  }
 ],
 "metadata": {
  "interpreter": {
   "hash": "5984c07bd85a09704efeebc43c280456997f3d9e1810f10980d19f89f173e200"
  },
  "kernelspec": {
   "display_name": "Python 3.8.5 64-bit",
   "language": "python",
   "name": "python3"
  },
  "language_info": {
   "codemirror_mode": {
    "name": "ipython",
    "version": 3
   },
   "file_extension": ".py",
   "mimetype": "text/x-python",
   "name": "python",
   "nbconvert_exporter": "python",
   "pygments_lexer": "ipython3",
   "version": "3.8.9"
  },
  "orig_nbformat": 4
 },
 "nbformat": 4,
 "nbformat_minor": 2
}
